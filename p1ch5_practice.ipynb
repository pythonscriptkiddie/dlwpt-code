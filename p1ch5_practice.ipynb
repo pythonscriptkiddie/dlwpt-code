{
 "cells": [
  {
   "cell_type": "code",
   "execution_count": 1,
   "id": "7d7978fa-11af-42d1-850a-ebf9dc7c57be",
   "metadata": {},
   "outputs": [],
   "source": [
    "from argparse import Namespace\n",
    "from typing import TypeVar\n",
    "import torch \n",
    "import torch.optim as optim\n",
    "from dask.distributed import Client\n",
    "from dask import delayed"
   ]
  },
  {
   "cell_type": "code",
   "execution_count": 2,
   "id": "9cada8f1-4855-4f3a-8b03-e8f2692d4cab",
   "metadata": {},
   "outputs": [],
   "source": [
    "client = Client(asynchronous=True)"
   ]
  },
  {
   "cell_type": "code",
   "execution_count": 3,
   "id": "aa8cbcf4-45f1-49fe-a3f0-7f4e8b1bb2ee",
   "metadata": {},
   "outputs": [],
   "source": [
    "Tensor = TypeVar('torch.Tensor')\n",
    "Optimizer = TypeVar('torch.optim')"
   ]
  },
  {
   "cell_type": "code",
   "execution_count": 4,
   "id": "c8c98c3c-beb0-43ee-a0d2-984c596ec823",
   "metadata": {},
   "outputs": [],
   "source": [
    "t_c = [0.5, 14.0, 15.0, 28.0, 11.0, 8.0, 3.0, -4.0, 6.0, 13.0, 21.0]\n",
    "t_u = [35.7, 55.9, 58.2, 81.9, 56.3, 48.9, 33.9, 21.8, 48.4, 60.4, 68.4]\n",
    "t_c = torch.tensor(t_c)\n",
    "t_u = torch.tensor(t_u)"
   ]
  },
  {
   "cell_type": "code",
   "execution_count": 5,
   "id": "975327b5-166e-4f2a-9648-51014f184d2c",
   "metadata": {},
   "outputs": [],
   "source": [
    "def model(t_u, w, b):\n",
    "    '''Model for basic equations from Deep Learning With Pytorch'''\n",
    "    return w * t_u + b"
   ]
  },
  {
   "cell_type": "code",
   "execution_count": 23,
   "id": "23c1c1c5-37ce-4676-95b1-2fc82f4ac1a6",
   "metadata": {},
   "outputs": [],
   "source": [
    "def loss_fn(t_p, t_c):\n",
    "    '''Loss function for basic equations'''\n",
    "    squared_diffs = (t_p - t_c)**2\n",
    "    return squared_diffs.mean()"
   ]
  },
  {
   "cell_type": "code",
   "execution_count": 7,
   "id": "64f2db87-f1e9-4432-a569-aa649d058f5f",
   "metadata": {},
   "outputs": [
    {
     "data": {
      "text/plain": [
       "tensor([35.7000, 55.9000, 58.2000, 81.9000, 56.3000, 48.9000, 33.9000, 21.8000,\n",
       "        48.4000, 60.4000, 68.4000])"
      ]
     },
     "metadata": {},
     "output_type": "display_data"
    }
   ],
   "source": [
    "w = delayed(torch.ones(()))\n",
    "b = delayed(torch.zeros(()))\n",
    "t_p = delayed(model)(t_u, w, b)\n",
    "display(t_p := await client.compute(t_p))"
   ]
  },
  {
   "cell_type": "code",
   "execution_count": 8,
   "id": "cc7e509a-e590-476d-990c-5198103e5bed",
   "metadata": {},
   "outputs": [],
   "source": [
    "loss0 = delayed(loss_fn)(t_p, t_c)\n",
    "loss1 = await client.compute(loss0)"
   ]
  },
  {
   "cell_type": "code",
   "execution_count": 9,
   "id": "3abba531-57f0-43d2-ae84-a54ea7071566",
   "metadata": {},
   "outputs": [
    {
     "data": {
      "text/plain": [
       "tensor(1763.8848)"
      ]
     },
     "execution_count": 9,
     "metadata": {},
     "output_type": "execute_result"
    }
   ],
   "source": [
    "loss1"
   ]
  },
  {
   "cell_type": "code",
   "execution_count": 10,
   "id": "f5339492-eb7a-4508-ae3c-c8487c8df26d",
   "metadata": {},
   "outputs": [],
   "source": [
    "delta = 0.1\n",
    "\n",
    "loss_rate_of_change_w = \\\n",
    "    (loss_fn(model(t_u, w+delta, b), t_c) - \n",
    "    loss_fn(model(t_u, w - delta, b), t_c)) / 2.0 * delta"
   ]
  },
  {
   "cell_type": "code",
   "execution_count": 11,
   "id": "c97df156-f143-4dfe-8c84-213a283ed7c0",
   "metadata": {},
   "outputs": [],
   "source": [
    "learning_rate = 1e-2\n",
    "\n",
    "w = w - learning_rate * loss_rate_of_change_w"
   ]
  },
  {
   "cell_type": "code",
   "execution_count": 12,
   "id": "98c5c955-b8bd-4241-9710-00249c0309e6",
   "metadata": {},
   "outputs": [],
   "source": [
    "loss_rate_of_change_b = \\\n",
    "    (loss_fn(model(t_u, w, b + delta), t_c) - \n",
    "    loss_fn(model(t_u, w, b - delta), t_c)) / (2.0 * delta)\n",
    "\n",
    "b = b - learning_rate * loss_rate_of_change_b"
   ]
  },
  {
   "cell_type": "code",
   "execution_count": 24,
   "id": "0d8a37eb-1d9b-4681-941f-b5e94ba15cc8",
   "metadata": {},
   "outputs": [],
   "source": [
    "def dloss_fn(t_p, t_c):\n",
    "    dsq_diffs = 2 * (t_p - t_c) / t_p.size(0)\n",
    "    return dsq_diffs"
   ]
  },
  {
   "cell_type": "code",
   "execution_count": 25,
   "id": "95cea79a-2780-4ace-a8c2-393d80f081d5",
   "metadata": {},
   "outputs": [],
   "source": [
    "def dmodel_dw(t_u, w, b):\n",
    "    return t_u"
   ]
  },
  {
   "cell_type": "code",
   "execution_count": 26,
   "id": "b2765d79-337f-48c0-ae32-d6220729f7d0",
   "metadata": {},
   "outputs": [],
   "source": [
    "def dmodel_db(t_u, w, b):\n",
    "    return 1.0"
   ]
  },
  {
   "cell_type": "code",
   "execution_count": 27,
   "id": "b1775e0c-f9fe-4868-a35f-028ee6b2f3f9",
   "metadata": {},
   "outputs": [],
   "source": [
    "def grad_fn(t_u, t_c, t_p, w, b):\n",
    "    dloss_dtp = dloss_fn(t_p, t_c)\n",
    "    dloss_dw = dloss_dtp * dmodel_dw(t_u, w, b)\n",
    "    dloss_db = dloss_dtp * dmodel_db(t_u, w, b)\n",
    "    return torch.stack([dloss_dw.sum(), dloss_db.sum()])"
   ]
  },
  {
   "cell_type": "code",
   "execution_count": 37,
   "id": "53db3a6c-88b2-41b2-9ef6-e0a86d7cd522",
   "metadata": {},
   "outputs": [],
   "source": [
    "def training_loop(n_epochs, learning_rate, params, loss_fn, grad_fn, model, t_u, t_c, print_params):\n",
    "    '''Training loop for the model learning. This is the initial phase.'''\n",
    "    for epoch in range(1, n_epochs+1):\n",
    "        w, b = params\n",
    "        \n",
    "        t_p = model(t_u, w, b)\n",
    "        \n",
    "        loss = loss_fn(t_p, t_c)\n",
    "        grad = grad_fn(t_u, t_c, t_p, w, b)\n",
    "        \n",
    "        params = params - learning_rate * grad\n",
    "        \n",
    "        if epoch in {1, 2, 3, 10, 11, 99, 100, 4000, 5000}:  # <3>\n",
    "            print('Epoch %d, Loss %f' % (epoch, float(loss)))\n",
    "            if print_params:\n",
    "                print('    Params:', params)\n",
    "                print('    Grad:  ', grad)\n",
    "        if epoch in {4, 12, 101}:\n",
    "            print('...')\n",
    "\n",
    "        if not torch.isfinite(loss).all():\n",
    "            break  # <3>\n",
    "    return params"
   ]
  },
  {
   "cell_type": "code",
   "execution_count": 57,
   "id": "683ffbd8-b79b-4c15-89eb-f5ea0bb8b641",
   "metadata": {},
   "outputs": [
    {
     "name": "stdout",
     "output_type": "stream",
     "text": [
      "Epoch 1, Loss 1763.884766\n",
      "    Params: tensor([-44.1730,  -0.8260])\n",
      "    Grad:   tensor([4517.2964,   82.6000])\n",
      "Epoch 2, Loss 5802484.500000\n",
      "    Params: tensor([2568.4011,   45.1637])\n",
      "    Grad:   tensor([-261257.4062,   -4598.9702])\n",
      "Epoch 3, Loss 19408029696.000000\n",
      "    Params: tensor([-148527.7344,   -2616.3931])\n",
      "    Grad:   tensor([15109614.0000,   266155.6875])\n",
      "...\n",
      "Epoch 10, Loss 90901105189019073810297959556841472.000000\n",
      "    Params: tensor([3.2144e+17, 5.6621e+15])\n",
      "    Grad:   tensor([-3.2700e+19, -5.7600e+17])\n",
      "Epoch 11, Loss inf\n",
      "    Params: tensor([-1.8590e+19, -3.2746e+17])\n",
      "    Grad:   tensor([1.8912e+21, 3.3313e+19])\n"
     ]
    },
    {
     "data": {
      "text/plain": [
       "tensor([-1.8590e+19, -3.2746e+17])"
      ]
     },
     "execution_count": 57,
     "metadata": {},
     "output_type": "execute_result"
    }
   ],
   "source": [
    "params = Namespace(\n",
    "    n_epochs=100,\n",
    "    learning_rate=1e-2,\n",
    "    params = torch.tensor([1.0, 0.0]),\n",
    "    model=model,\n",
    "    loss_fn = loss_fn,\n",
    "    grad_fn = grad_fn,\n",
    "    t_u = t_u,\n",
    "    t_c = t_c,\n",
    "    print_params=True)\n",
    "\n",
    "training_loop(\n",
    "    n_epochs=params.n_epochs,\n",
    "    learning_rate=params.learning_rate,\n",
    "    params=params.params,\n",
    "    model=params.model,\n",
    "    loss_fn=params.loss_fn,\n",
    "    grad_fn=params.grad_fn,\n",
    "    t_u=params.t_u,\n",
    "    t_c=params.t_c,\n",
    "    print_params=params.print_params)"
   ]
  },
  {
   "cell_type": "code",
   "execution_count": 58,
   "id": "68c7fed3-0ba2-4b82-a567-22e12f36c944",
   "metadata": {},
   "outputs": [
    {
     "name": "stdout",
     "output_type": "stream",
     "text": [
      "Epoch 1, Loss 1763.884766\n",
      "    Params: tensor([ 0.5483, -0.0083])\n",
      "    Grad:   tensor([4517.2964,   82.6000])\n",
      "Epoch 2, Loss 323.090515\n",
      "    Params: tensor([ 0.3623, -0.0118])\n",
      "    Grad:   tensor([1859.5493,   35.7843])\n",
      "Epoch 3, Loss 78.929634\n",
      "    Params: tensor([ 0.2858, -0.0135])\n",
      "    Grad:   tensor([765.4666,  16.5122])\n",
      "...\n",
      "Epoch 10, Loss 29.105247\n",
      "    Params: tensor([ 0.2324, -0.0166])\n",
      "    Grad:   tensor([1.4803, 3.0544])\n",
      "Epoch 11, Loss 29.104168\n",
      "    Params: tensor([ 0.2323, -0.0169])\n",
      "    Grad:   tensor([0.5781, 3.0384])\n",
      "...\n",
      "Epoch 99, Loss 29.023582\n",
      "    Params: tensor([ 0.2327, -0.0435])\n",
      "    Grad:   tensor([-0.0533,  3.0226])\n",
      "Epoch 100, Loss 29.022667\n",
      "    Params: tensor([ 0.2327, -0.0438])\n",
      "    Grad:   tensor([-0.0532,  3.0226])\n"
     ]
    },
    {
     "data": {
      "text/plain": [
       "tensor([ 0.2327, -0.0438])"
      ]
     },
     "execution_count": 58,
     "metadata": {},
     "output_type": "execute_result"
    }
   ],
   "source": [
    "params = Namespace(\n",
    "    n_epochs=100,\n",
    "    learning_rate=1e-4,\n",
    "    params = torch.tensor([1.0, 0.0]),\n",
    "    model=model,\n",
    "    loss_fn = loss_fn,\n",
    "    grad_fn = grad_fn,\n",
    "    t_u = t_u,\n",
    "    t_c = t_c,\n",
    "    print_params=True)\n",
    "\n",
    "training_loop(\n",
    "    n_epochs=params.n_epochs,\n",
    "    learning_rate=params.learning_rate,\n",
    "    params=params.params,\n",
    "    model=params.model,\n",
    "    loss_fn=params.loss_fn,\n",
    "    grad_fn=params.grad_fn,\n",
    "    t_u=params.t_u,\n",
    "    t_c=params.t_c,\n",
    "    print_params=params.print_params)"
   ]
  },
  {
   "cell_type": "code",
   "execution_count": 59,
   "id": "6dbd6834-ec55-4025-9580-29500e6bdc3f",
   "metadata": {},
   "outputs": [],
   "source": [
    "#multiple t_u by 0.1\n",
    "t_un = 0.1 * t_u"
   ]
  },
  {
   "cell_type": "code",
   "execution_count": 60,
   "id": "59f8511b-bc11-4225-abf4-3b8a35c66650",
   "metadata": {},
   "outputs": [
    {
     "name": "stdout",
     "output_type": "stream",
     "text": [
      "Epoch 1, Loss 80.364342\n",
      "    Params: tensor([1.7761, 0.1064])\n",
      "    Grad:   tensor([-77.6140, -10.6400])\n",
      "Epoch 2, Loss 37.574913\n",
      "    Params: tensor([2.0848, 0.1303])\n",
      "    Grad:   tensor([-30.8623,  -2.3864])\n",
      "Epoch 3, Loss 30.871077\n",
      "    Params: tensor([2.2094, 0.1217])\n",
      "    Grad:   tensor([-12.4631,   0.8587])\n",
      "...\n",
      "Epoch 10, Loss 29.030489\n",
      "    Params: tensor([ 2.3232, -0.0710])\n",
      "    Grad:   tensor([-0.5355,  2.9295])\n",
      "Epoch 11, Loss 28.941877\n",
      "    Params: tensor([ 2.3284, -0.1003])\n",
      "    Grad:   tensor([-0.5240,  2.9264])\n",
      "...\n",
      "Epoch 99, Loss 22.214186\n",
      "    Params: tensor([ 2.7508, -2.4910])\n",
      "    Grad:   tensor([-0.4453,  2.5208])\n",
      "Epoch 100, Loss 22.148710\n",
      "    Params: tensor([ 2.7553, -2.5162])\n",
      "    Grad:   tensor([-0.4446,  2.5165])\n"
     ]
    },
    {
     "data": {
      "text/plain": [
       "tensor([ 2.7553, -2.5162])"
      ]
     },
     "execution_count": 60,
     "metadata": {},
     "output_type": "execute_result"
    }
   ],
   "source": [
    "params = Namespace(\n",
    "    n_epochs=100,\n",
    "    learning_rate=1e-2,\n",
    "    params = torch.tensor([1.0, 0.0]),\n",
    "    model=model,\n",
    "    loss_fn = loss_fn,\n",
    "    grad_fn = grad_fn,\n",
    "    t_u = t_un,\n",
    "    t_c = t_c,\n",
    "    print_params=True)\n",
    "\n",
    "training_loop(\n",
    "    n_epochs=params.n_epochs,\n",
    "    learning_rate=params.learning_rate,\n",
    "    params=params.params,\n",
    "    model=params.model,\n",
    "    loss_fn=params.loss_fn,\n",
    "    grad_fn=params.grad_fn,\n",
    "    t_u=params.t_u,\n",
    "    t_c=params.t_c,\n",
    "    print_params=params.print_params)"
   ]
  },
  {
   "cell_type": "code",
   "execution_count": null,
   "id": "bb061288-f56a-46f9-8b57-1ad40830a657",
   "metadata": {},
   "outputs": [],
   "source": []
  }
 ],
 "metadata": {
  "kernelspec": {
   "display_name": "Python 3 (ipykernel)",
   "language": "python",
   "name": "python3"
  },
  "language_info": {
   "codemirror_mode": {
    "name": "ipython",
    "version": 3
   },
   "file_extension": ".py",
   "mimetype": "text/x-python",
   "name": "python",
   "nbconvert_exporter": "python",
   "pygments_lexer": "ipython3",
   "version": "3.9.7"
  }
 },
 "nbformat": 4,
 "nbformat_minor": 5
}
