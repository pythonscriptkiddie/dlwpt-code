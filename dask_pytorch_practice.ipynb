{
 "cells": [
  {
   "cell_type": "code",
   "execution_count": 1,
   "id": "eb7d0063-e296-45ea-873c-ac6c59eb3321",
   "metadata": {},
   "outputs": [],
   "source": [
    "from functools import partial\n",
    "import re\n",
    "from dask.distributed import Client\n",
    "import torch"
   ]
  },
  {
   "cell_type": "code",
   "execution_count": 2,
   "id": "282fa706-2801-4e31-a66a-e2c8a3f7227c",
   "metadata": {},
   "outputs": [],
   "source": [
    "client = Client(asynchronous=True)"
   ]
  },
  {
   "cell_type": "code",
   "execution_count": 3,
   "id": "97f463c6-151d-4218-b461-22fe7136e99a",
   "metadata": {},
   "outputs": [],
   "source": [
    "def get_text(data_path, encoding='utf8'):\n",
    "    with open(data_path, encoding=encoding) as f:\n",
    "        return f.read()"
   ]
  },
  {
   "cell_type": "code",
   "execution_count": 4,
   "id": "393c2025-3764-45de-809d-a05e1b5865e7",
   "metadata": {},
   "outputs": [
    {
     "name": "stderr",
     "output_type": "stream",
     "text": [
      "/Users/thomassullivan/opt/anaconda3/envs/edgemont/lib/python3.9/site-packages/distributed/node.py:160: UserWarning: Port 8787 is already in use.\n",
      "Perhaps you already have a cluster running?\n",
      "Hosting the HTTP server on port 53678 instead\n",
      "  warnings.warn(\n",
      "distributed.diskutils - INFO - Found stale lock file and directory '/Users/thomassullivan/Documents/Github/dlwpt-code/dask-worker-space/worker-4jztwuc4', purging\n",
      "distributed.diskutils - INFO - Found stale lock file and directory '/Users/thomassullivan/Documents/Github/dlwpt-code/dask-worker-space/worker-kjua1nvo', purging\n",
      "distributed.diskutils - INFO - Found stale lock file and directory '/Users/thomassullivan/Documents/Github/dlwpt-code/dask-worker-space/worker-zoqhrthb', purging\n",
      "distributed.diskutils - INFO - Found stale lock file and directory '/Users/thomassullivan/Documents/Github/dlwpt-code/dask-worker-space/worker-sv15za_z', purging\n"
     ]
    }
   ],
   "source": [
    "#get_text('data/p1ch4/jane-austen/1342-0.txt', encoding='utf8')\n",
    "raw_text0 = client.submit(lambda x: get_text(x), 'data/p1ch4/jane-austen/1342-0.txt')\n",
    "raw_text1 = await client.gather(raw_text0)"
   ]
  },
  {
   "cell_type": "code",
   "execution_count": 5,
   "id": "1df13b33-e6b3-4358-90b7-355f71ff7277",
   "metadata": {},
   "outputs": [],
   "source": [
    "raw_text_future0 = client.scatter(raw_text1)\n",
    "lines0 = client.submit(lambda x: x.split('\\n'), await raw_text_future0)\n",
    "lines1 = await client.gather(lines0)"
   ]
  },
  {
   "cell_type": "code",
   "execution_count": 6,
   "id": "0e595f6b-0c03-4516-bc1d-60eb287c021f",
   "metadata": {},
   "outputs": [],
   "source": [
    "raw_text_future0 = client.scatter(lines1)\n",
    "line0 = client.submit(lambda x: x[200], await raw_text_future0)\n",
    "line1 = await client.gather(line0)"
   ]
  },
  {
   "cell_type": "code",
   "execution_count": 7,
   "id": "0a567693-c099-422e-a1c0-2a4658af12d5",
   "metadata": {},
   "outputs": [
    {
     "data": {
      "text/plain": [
       "'“Impossible, Mr. Bennet, impossible, when I am not acquainted with him'"
      ]
     },
     "execution_count": 7,
     "metadata": {},
     "output_type": "execute_result"
    }
   ],
   "source": [
    "line1"
   ]
  },
  {
   "cell_type": "code",
   "execution_count": 8,
   "id": "29fdcaac-e6ad-4a18-b5c7-99ee5dac1c32",
   "metadata": {},
   "outputs": [],
   "source": [
    "line_future0 = client.scatter(line1)\n",
    "letter_t0 = client.submit(lambda x: torch.zeros(len(x), 128), await line_future0)\n",
    "letter_t1 = await client.gather(letter_t0)"
   ]
  },
  {
   "cell_type": "code",
   "execution_count": 9,
   "id": "d20eca68-a60f-480f-9dd0-0f47ee609950",
   "metadata": {},
   "outputs": [],
   "source": [
    "for i, letter in enumerate(line1.lower().strip()):\n",
    "    letter_index = ord(letter) if ord(letter) < 128 else 0\n",
    "    letter_t1[i][letter_index] = 1"
   ]
  },
  {
   "cell_type": "code",
   "execution_count": 13,
   "id": "630c1451-ca5c-4a82-b4e7-3a32f5169a70",
   "metadata": {},
   "outputs": [],
   "source": [
    "def clean_words(input_str):\n",
    "    punctuation = '.,;:\"!?”“_-'\n",
    "    word_list = input_str.lower().replace('\\n', ' ').split()\n",
    "    return [word.strip(punctuation) for word in word_list]"
   ]
  },
  {
   "cell_type": "code",
   "execution_count": 14,
   "id": "f7b85cba-cfdf-47b9-ba05-276c43861972",
   "metadata": {},
   "outputs": [],
   "source": [
    "words_in_line0 = client.submit(lambda x: clean_words(x), line1)\n",
    "words_in_line1 = await client.gather(words_in_line0)"
   ]
  },
  {
   "cell_type": "code",
   "execution_count": 16,
   "id": "2e39623f-3762-45f5-9ec9-d3e161bcc373",
   "metadata": {},
   "outputs": [
    {
     "data": {
      "text/plain": [
       "('“Impossible, Mr. Bennet, impossible, when I am not acquainted with him',\n",
       " ['impossible',\n",
       "  'mr',\n",
       "  'bennet',\n",
       "  'impossible',\n",
       "  'when',\n",
       "  'i',\n",
       "  'am',\n",
       "  'not',\n",
       "  'acquainted',\n",
       "  'with',\n",
       "  'him'])"
      ]
     },
     "execution_count": 16,
     "metadata": {},
     "output_type": "execute_result"
    }
   ],
   "source": [
    "line1, words_in_line1"
   ]
  },
  {
   "cell_type": "code",
   "execution_count": 19,
   "id": "f332f502-37af-4c8c-9775-d9789873169c",
   "metadata": {},
   "outputs": [
    {
     "name": "stderr",
     "output_type": "stream",
     "text": [
      "/var/folders/kz/gdzfkm910wq4p613kw6rbgw40000gn/T/ipykernel_21519/2013725818.py:1: RuntimeWarning: coroutine 'Client._scatter' was never awaited\n",
      "  text_future0 = client.scatter(raw_text1)\n"
     ]
    }
   ],
   "source": [
    "text_future0 = client.scatter(raw_text1)\n",
    "word_list0 = client.submit(lambda x: sorted(set(clean_words(x))),\n",
    "                          await text_future0)\n",
    "word_list1 = await client.gather(word_list0)"
   ]
  },
  {
   "cell_type": "code",
   "execution_count": 23,
   "id": "d593856a-5be7-4f09-99ad-5d7122b9f96c",
   "metadata": {},
   "outputs": [
    {
     "name": "stderr",
     "output_type": "stream",
     "text": [
      "/var/folders/kz/gdzfkm910wq4p613kw6rbgw40000gn/T/ipykernel_21519/500712613.py:2: RuntimeWarning: coroutine 'Client._scatter' was never awaited\n",
      "  text_future1 = client.scatter(word_list1)\n"
     ]
    }
   ],
   "source": [
    "#word_list1\n",
    "text_future1 = client.scatter(word_list1)\n",
    "word2indexdict0 = client.submit(lambda x: {word: i for (i, word) in enumerate(x)},\n",
    "                               await text_future1)\n",
    "word2indexdict1 = await client.gather(word2indexdict0)"
   ]
  },
  {
   "cell_type": "code",
   "execution_count": 28,
   "id": "ff9904d5-9335-4345-a718-6c97fc2719ca",
   "metadata": {},
   "outputs": [
    {
     "name": "stdout",
     "output_type": "stream",
     "text": [
      " 0 3394 impossible\n",
      " 1 4305 mr\n",
      " 2  813 bennet\n",
      " 3 3394 impossible\n",
      " 4 7078 when\n",
      " 5 3315 i\n",
      " 6  415 am\n",
      " 7 4436 not\n",
      " 8  239 acquainted\n",
      " 9 7148 with\n",
      "10 3215 him\n"
     ]
    }
   ],
   "source": [
    "word_t = torch.zeros(len(words_in_line1), len(word2indexdict1))\n",
    "for i, word in enumerate(words_in_line1):\n",
    "    word_index = word2indexdict1[word]\n",
    "    word_t[i][word_index] = 1\n",
    "    print('{:2} {:4} {}'.format(i, word_index, word))"
   ]
  },
  {
   "cell_type": "code",
   "execution_count": null,
   "id": "c63da202-084f-44d9-8f42-2e345f434712",
   "metadata": {},
   "outputs": [],
   "source": []
  }
 ],
 "metadata": {
  "kernelspec": {
   "display_name": "Python 3 (ipykernel)",
   "language": "python",
   "name": "python3"
  },
  "language_info": {
   "codemirror_mode": {
    "name": "ipython",
    "version": 3
   },
   "file_extension": ".py",
   "mimetype": "text/x-python",
   "name": "python",
   "nbconvert_exporter": "python",
   "pygments_lexer": "ipython3",
   "version": "3.9.7"
  }
 },
 "nbformat": 4,
 "nbformat_minor": 5
}
