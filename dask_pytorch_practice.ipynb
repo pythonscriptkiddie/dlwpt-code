{
 "cells": [
  {
   "cell_type": "code",
   "execution_count": 31,
   "id": "eb7d0063-e296-45ea-873c-ac6c59eb3321",
   "metadata": {},
   "outputs": [],
   "source": [
    "from functools import partial\n",
    "import re\n",
    "from dask.distributed import Client\n",
    "import torch"
   ]
  },
  {
   "cell_type": "code",
   "execution_count": 3,
   "id": "282fa706-2801-4e31-a66a-e2c8a3f7227c",
   "metadata": {},
   "outputs": [
    {
     "name": "stderr",
     "output_type": "stream",
     "text": [
      "/Users/thomassullivan/opt/anaconda3/envs/edgemont/lib/python3.9/site-packages/distributed/node.py:160: UserWarning: Port 8787 is already in use.\n",
      "Perhaps you already have a cluster running?\n",
      "Hosting the HTTP server on port 49692 instead\n",
      "  warnings.warn(\n"
     ]
    }
   ],
   "source": [
    "client = Client(asynchronous=True)"
   ]
  },
  {
   "cell_type": "code",
   "execution_count": 22,
   "id": "97f463c6-151d-4218-b461-22fe7136e99a",
   "metadata": {},
   "outputs": [],
   "source": [
    "def get_text(data_path, encoding='utf8'):\n",
    "    with open(data_path, encoding=encoding) as f:\n",
    "        return f.read()"
   ]
  },
  {
   "cell_type": "code",
   "execution_count": 29,
   "id": "393c2025-3764-45de-809d-a05e1b5865e7",
   "metadata": {},
   "outputs": [],
   "source": [
    "#get_text('data/p1ch4/jane-austen/1342-0.txt', encoding='utf8')\n",
    "raw_text0 = client.submit(lambda x: get_text(x), 'data/p1ch4/jane-austen/1342-0.txt')\n",
    "raw_text1 = await client.gather(raw_text0)"
   ]
  },
  {
   "cell_type": "code",
   "execution_count": 34,
   "id": "1df13b33-e6b3-4358-90b7-355f71ff7277",
   "metadata": {},
   "outputs": [],
   "source": [
    "raw_text_future0 = client.scatter(raw_text1)\n",
    "lines0 = client.submit(lambda x: x.split('\\n'), await raw_text_future0)\n",
    "lines1 = await client.gather(lines0)"
   ]
  },
  {
   "cell_type": "code",
   "execution_count": 36,
   "id": "0e595f6b-0c03-4516-bc1d-60eb287c021f",
   "metadata": {},
   "outputs": [],
   "source": [
    "raw_text_future0 = client.scatter(lines1)\n",
    "line0 = client.submit(lambda x: x[200], await raw_text_future0)\n",
    "line1 = await client.gather(line0)"
   ]
  },
  {
   "cell_type": "code",
   "execution_count": 37,
   "id": "0a567693-c099-422e-a1c0-2a4658af12d5",
   "metadata": {},
   "outputs": [
    {
     "data": {
      "text/plain": [
       "'“Impossible, Mr. Bennet, impossible, when I am not acquainted with him'"
      ]
     },
     "execution_count": 37,
     "metadata": {},
     "output_type": "execute_result"
    }
   ],
   "source": [
    "line1"
   ]
  },
  {
   "cell_type": "code",
   "execution_count": 38,
   "id": "29fdcaac-e6ad-4a18-b5c7-99ee5dac1c32",
   "metadata": {},
   "outputs": [],
   "source": [
    "line_future0 = client.scatter(line1)\n",
    "letter_t0 = client.submit(lambda x: torch.zeros(len(x), 128), await line_future0)\n",
    "letter_t1 = await client.gather(letter_t0)"
   ]
  },
  {
   "cell_type": "code",
   "execution_count": 39,
   "id": "d20eca68-a60f-480f-9dd0-0f47ee609950",
   "metadata": {},
   "outputs": [
    {
     "data": {
      "text/plain": [
       "tensor([[0., 0., 0.,  ..., 0., 0., 0.],\n",
       "        [0., 0., 0.,  ..., 0., 0., 0.],\n",
       "        [0., 0., 0.,  ..., 0., 0., 0.],\n",
       "        ...,\n",
       "        [0., 0., 0.,  ..., 0., 0., 0.],\n",
       "        [0., 0., 0.,  ..., 0., 0., 0.],\n",
       "        [0., 0., 0.,  ..., 0., 0., 0.]])"
      ]
     },
     "execution_count": 39,
     "metadata": {},
     "output_type": "execute_result"
    }
   ],
   "source": [
    "letter_t1"
   ]
  },
  {
   "cell_type": "code",
   "execution_count": null,
   "id": "630c1451-ca5c-4a82-b4e7-3a32f5169a70",
   "metadata": {},
   "outputs": [],
   "source": []
  }
 ],
 "metadata": {
  "kernelspec": {
   "display_name": "Python 3 (ipykernel)",
   "language": "python",
   "name": "python3"
  },
  "language_info": {
   "codemirror_mode": {
    "name": "ipython",
    "version": 3
   },
   "file_extension": ".py",
   "mimetype": "text/x-python",
   "name": "python",
   "nbconvert_exporter": "python",
   "pygments_lexer": "ipython3",
   "version": "3.9.7"
  }
 },
 "nbformat": 4,
 "nbformat_minor": 5
}
