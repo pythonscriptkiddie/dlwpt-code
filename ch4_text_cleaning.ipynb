{
 "cells": [
  {
   "cell_type": "code",
   "execution_count": 51,
   "id": "respective-indianapolis",
   "metadata": {},
   "outputs": [],
   "source": [
    "from functools import partial\n",
    "import dask.bag as db\n",
    "from dask import delayed\n",
    "from dask.distributed import Client\n",
    "import torch"
   ]
  },
  {
   "cell_type": "code",
   "execution_count": 52,
   "id": "continent-craps",
   "metadata": {},
   "outputs": [
    {
     "name": "stderr",
     "output_type": "stream",
     "text": [
      "/Users/thomassullivan/data_science/anaconda3/envs/pro_practice/lib/python3.8/site-packages/distributed/node.py:160: UserWarning: Port 8787 is already in use.\n",
      "Perhaps you already have a cluster running?\n",
      "Hosting the HTTP server on port 55893 instead\n",
      "  warnings.warn(\n"
     ]
    }
   ],
   "source": [
    "client = Client(asynchronous=True)"
   ]
  },
  {
   "cell_type": "code",
   "execution_count": 53,
   "id": "premier-comment",
   "metadata": {},
   "outputs": [],
   "source": [
    "#new_bag = db.read_text('data/p1ch4/jane-austen/1342-0.txt')\n",
    "def read_text(filename: str, encoding: str) -> str:\n",
    "    '''Takes a filename and returns a string of text. We created\n",
    "    this function to be able to call it in a delayed manner.'''\n",
    "    with open(filename, encoding=encoding) as f:\n",
    "        return f.read()\n",
    "    \n",
    "read_text_utf8 = partial(read_text, encoding='utf8')"
   ]
  },
  {
   "cell_type": "code",
   "execution_count": 54,
   "id": "fresh-laugh",
   "metadata": {},
   "outputs": [],
   "source": [
    "text = delayed(read_text_utf8)('data/p1ch4/jane-austen/1342-0.txt')"
   ]
  },
  {
   "cell_type": "code",
   "execution_count": 58,
   "id": "indonesian-lottery",
   "metadata": {},
   "outputs": [],
   "source": [
    "lines = delayed(lambda x: x.split('\\n'))(text)"
   ]
  },
  {
   "cell_type": "code",
   "execution_count": 70,
   "id": "referenced-dream",
   "metadata": {},
   "outputs": [],
   "source": [
    "#lines2 = await client.compute(lines)\n",
    "line0 = delayed(lambda x: x[200])(lines)\n",
    "line = await client.compute(line0)"
   ]
  },
  {
   "cell_type": "code",
   "execution_count": 71,
   "id": "consistent-history",
   "metadata": {},
   "outputs": [],
   "source": [
    "letter_t1 = client.submit(lambda x: torch.zeros(len(x), 128), line)\n",
    "letter_t2 = await client.gather(letter_t1)"
   ]
  },
  {
   "cell_type": "code",
   "execution_count": 72,
   "id": "direct-silly",
   "metadata": {},
   "outputs": [
    {
     "data": {
      "text/plain": [
       "(tensor([[0., 0., 0.,  ..., 0., 0., 0.],\n",
       "         [0., 0., 0.,  ..., 0., 0., 0.],\n",
       "         [0., 0., 0.,  ..., 0., 0., 0.],\n",
       "         ...,\n",
       "         [0., 0., 0.,  ..., 0., 0., 0.],\n",
       "         [0., 0., 0.,  ..., 0., 0., 0.],\n",
       "         [0., 0., 0.,  ..., 0., 0., 0.]]),\n",
       " torch.Size([70, 128]))"
      ]
     },
     "execution_count": 72,
     "metadata": {},
     "output_type": "execute_result"
    }
   ],
   "source": [
    "letter_t2, letter_t2.shape"
   ]
  },
  {
   "cell_type": "code",
   "execution_count": 78,
   "id": "adjacent-advantage",
   "metadata": {},
   "outputs": [],
   "source": [
    "for i, letter in enumerate(line.lower().strip()):\n",
    "    letter_index = ord(letter) if ord(letter) < 128 else 0\n",
    "    letter_t2[i][letter_index] = 1"
   ]
  },
  {
   "cell_type": "code",
   "execution_count": 79,
   "id": "fewer-williams",
   "metadata": {},
   "outputs": [
    {
     "data": {
      "text/plain": [
       "tensor([[1., 0., 0.,  ..., 0., 0., 0.],\n",
       "        [0., 0., 0.,  ..., 0., 0., 0.],\n",
       "        [0., 0., 0.,  ..., 0., 0., 0.],\n",
       "        ...,\n",
       "        [0., 0., 0.,  ..., 0., 0., 0.],\n",
       "        [0., 0., 0.,  ..., 0., 0., 0.],\n",
       "        [0., 0., 0.,  ..., 0., 0., 0.]])"
      ]
     },
     "execution_count": 79,
     "metadata": {},
     "output_type": "execute_result"
    }
   ],
   "source": [
    "letter_t2"
   ]
  },
  {
   "cell_type": "code",
   "execution_count": 80,
   "id": "comprehensive-harvest",
   "metadata": {},
   "outputs": [],
   "source": [
    "def clean_words(input_str):\n",
    "    '''Takes a list of words and cleans them, replacing escaped characters'''\n",
    "    punctuation = '.,;:\"\"_-'\n",
    "    word_list = input_str.lower().replace('\\n', ' ').split()\n",
    "    word_list = [word.strip(punctuation) for word in word_list]\n",
    "    return word_list"
   ]
  },
  {
   "cell_type": "code",
   "execution_count": 81,
   "id": "applicable-mapping",
   "metadata": {},
   "outputs": [],
   "source": [
    "words_in_line = delayed(clean_words(line))"
   ]
  },
  {
   "cell_type": "code",
   "execution_count": 82,
   "id": "proper-cabinet",
   "metadata": {},
   "outputs": [
    {
     "data": {
      "text/plain": [
       "'“Impossible, Mr. Bennet, impossible, when I am not acquainted with him'"
      ]
     },
     "execution_count": 82,
     "metadata": {},
     "output_type": "execute_result"
    }
   ],
   "source": [
    "line"
   ]
  },
  {
   "cell_type": "code",
   "execution_count": 87,
   "id": "hairy-compression",
   "metadata": {},
   "outputs": [
    {
     "data": {
      "text/plain": [
       "['“impossible',\n",
       " 'mr',\n",
       " 'bennet',\n",
       " 'impossible',\n",
       " 'when',\n",
       " 'i',\n",
       " 'am',\n",
       " 'not',\n",
       " 'acquainted',\n",
       " 'with',\n",
       " 'him']"
      ]
     },
     "execution_count": 87,
     "metadata": {},
     "output_type": "execute_result"
    }
   ],
   "source": [
    "client.compute(words_in_line)"
   ]
  },
  {
   "cell_type": "code",
   "execution_count": null,
   "id": "common-brooklyn",
   "metadata": {},
   "outputs": [],
   "source": []
  }
 ],
 "metadata": {
  "kernelspec": {
   "display_name": "Python 3",
   "language": "python",
   "name": "python3"
  },
  "language_info": {
   "codemirror_mode": {
    "name": "ipython",
    "version": 3
   },
   "file_extension": ".py",
   "mimetype": "text/x-python",
   "name": "python",
   "nbconvert_exporter": "python",
   "pygments_lexer": "ipython3",
   "version": "3.8.8"
  }
 },
 "nbformat": 4,
 "nbformat_minor": 5
}
