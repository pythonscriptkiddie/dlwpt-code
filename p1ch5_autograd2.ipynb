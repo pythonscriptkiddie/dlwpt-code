{
 "cells": [
  {
   "cell_type": "code",
   "execution_count": 1,
   "id": "a726029f-eb2d-4e28-a577-045f8d0ffc7d",
   "metadata": {},
   "outputs": [],
   "source": [
    "%matplotlib inline\n",
    "from argparse import Namespace\n",
    "import numpy as np\n",
    "import torch\n",
    "from dask import delayed\n",
    "#from dask.distributed import Client\n",
    "torch.set_printoptions(edgeitems=2)"
   ]
  },
  {
   "cell_type": "code",
   "execution_count": 2,
   "id": "8f0ae3e6-cf4b-47b7-b181-6b464e8c882b",
   "metadata": {},
   "outputs": [],
   "source": [
    "#client = Client(asynchronous=True)"
   ]
  },
  {
   "cell_type": "code",
   "execution_count": 3,
   "id": "029665ca-dd06-447c-a6f4-c57d66cb8cd6",
   "metadata": {},
   "outputs": [],
   "source": [
    "t_c = torch.tensor([0.5, 14.0, 15.0, 28.0, 11.0, 8.0,\n",
    "                    3.0, -4.0, 6.0, 13.0, 21.0])\n",
    "t_u = torch.tensor([35.7, 55.9, 58.2, 81.9, 56.3, 48.9,\n",
    "                    33.9, 21.8, 48.4, 60.4, 68.4])\n",
    "t_un = 0.1 * t_u"
   ]
  },
  {
   "cell_type": "code",
   "execution_count": 4,
   "id": "b1a91b55-0b0e-4cfd-97ea-bfe64a7eef5f",
   "metadata": {},
   "outputs": [],
   "source": [
    "def model(t_u, w, b):\n",
    "    return w * t_u + b"
   ]
  },
  {
   "cell_type": "code",
   "execution_count": 5,
   "id": "dd9db58f-38ce-4b09-a207-3debb104ba08",
   "metadata": {},
   "outputs": [],
   "source": [
    "def loss_fn(t_p, t_c):\n",
    "    squared_diffs = (t_p - t_c)**2\n",
    "    return squared_diffs.mean()"
   ]
  },
  {
   "cell_type": "code",
   "execution_count": 6,
   "id": "cd9c5851-4228-49c5-bf3c-a635c316ebcf",
   "metadata": {},
   "outputs": [],
   "source": [
    "params = torch.tensor([1.0, 0.0], requires_grad=True)"
   ]
  },
  {
   "cell_type": "code",
   "execution_count": 7,
   "id": "7206c3b9-9778-433a-ab82-fd57f32d4c98",
   "metadata": {},
   "outputs": [
    {
     "data": {
      "text/plain": [
       "True"
      ]
     },
     "execution_count": 7,
     "metadata": {},
     "output_type": "execute_result"
    }
   ],
   "source": [
    "params.grad is None"
   ]
  },
  {
   "cell_type": "code",
   "execution_count": 8,
   "id": "6695718e-83ae-41ce-910f-ce5e0f4b0c8d",
   "metadata": {},
   "outputs": [
    {
     "data": {
      "text/plain": [
       "tensor([4517.2969,   82.6000])"
      ]
     },
     "execution_count": 8,
     "metadata": {},
     "output_type": "execute_result"
    }
   ],
   "source": [
    "loss = loss_fn(model(t_u, *params), t_c)\n",
    "loss.backward()\n",
    "\n",
    "params.grad"
   ]
  },
  {
   "cell_type": "code",
   "execution_count": 9,
   "id": "52527439-07c5-4d00-8d0f-c83d0d77d2bc",
   "metadata": {},
   "outputs": [],
   "source": [
    "if params.grad is not None:\n",
    "    params.grad.zero_()"
   ]
  },
  {
   "cell_type": "code",
   "execution_count": 10,
   "id": "a94759b5-3a1d-4c87-b0f5-304766ec76c8",
   "metadata": {},
   "outputs": [],
   "source": [
    "def training_loop(n_epochs, learning_rate, model, loss_fn, params, t_u, t_c):\n",
    "    for epoch in range(1, n_epochs+1):\n",
    "        if params.grad is not None:\n",
    "            params.grad.zero_()\n",
    "        \n",
    "        t_p = model(t_u, *params)\n",
    "        loss = loss_fn(t_p, t_c)\n",
    "        loss.backward()\n",
    "        \n",
    "        with torch.no_grad():\n",
    "            params -= learning_rate * params.grad\n",
    "        \n",
    "        if epoch % 500 == 0:\n",
    "            print(\"Epoch %d, Loss %f\" % (epoch, float(loss)))\n",
    "    return params"
   ]
  },
  {
   "cell_type": "code",
   "execution_count": 11,
   "id": "7b030a90-0180-4259-8c55-e60d5740f755",
   "metadata": {},
   "outputs": [
    {
     "name": "stdout",
     "output_type": "stream",
     "text": [
      "Epoch 500, Loss 7.860115\n",
      "Epoch 1000, Loss 3.828538\n",
      "Epoch 1500, Loss 3.092191\n",
      "Epoch 2000, Loss 2.957698\n",
      "Epoch 2500, Loss 2.933134\n",
      "Epoch 3000, Loss 2.928648\n",
      "Epoch 3500, Loss 2.927830\n",
      "Epoch 4000, Loss 2.927679\n",
      "Epoch 4500, Loss 2.927652\n",
      "Epoch 5000, Loss 2.927647\n"
     ]
    },
    {
     "data": {
      "text/plain": [
       "tensor([  5.3671, -17.3012], requires_grad=True)"
      ]
     },
     "execution_count": 11,
     "metadata": {},
     "output_type": "execute_result"
    }
   ],
   "source": [
    "params = Namespace(\n",
    "    n_epochs=5000,\n",
    "    learning_rate=1e-2,\n",
    "    model=model,\n",
    "    loss_fn=loss_fn,\n",
    "    params=torch.tensor([1.0, 0.0], requires_grad=True),\n",
    "    t_u = t_un,\n",
    "    t_c = t_c)\n",
    "\n",
    "training_loop(\n",
    "    n_epochs=params.n_epochs,\n",
    "    learning_rate=params.learning_rate,\n",
    "    model=params.model,\n",
    "    loss_fn=params.loss_fn,\n",
    "    params=params.params,\n",
    "    t_u=params.t_u,\n",
    "    t_c=params.t_c,\n",
    ")"
   ]
  },
  {
   "cell_type": "code",
   "execution_count": 12,
   "id": "3e0746d7-c0cf-41de-a6be-50961b5309f8",
   "metadata": {},
   "outputs": [],
   "source": [
    "#await (result1 := client.submit(lambda x: x(**vars(params)),\n",
    "                 #  training_loop))\n",
    "#result1"
   ]
  },
  {
   "cell_type": "code",
   "execution_count": 13,
   "id": "a686a919-6196-419b-91be-14a004463ade",
   "metadata": {},
   "outputs": [
    {
     "data": {
      "text/plain": [
       "['ASGD',\n",
       " 'Adadelta',\n",
       " 'Adagrad',\n",
       " 'Adam',\n",
       " 'AdamW',\n",
       " 'Adamax',\n",
       " 'LBFGS',\n",
       " 'NAdam',\n",
       " 'Optimizer',\n",
       " 'RAdam',\n",
       " 'RMSprop',\n",
       " 'Rprop',\n",
       " 'SGD',\n",
       " 'SparseAdam',\n",
       " '__builtins__',\n",
       " '__cached__',\n",
       " '__doc__',\n",
       " '__file__',\n",
       " '__loader__',\n",
       " '__name__',\n",
       " '__package__',\n",
       " '__path__',\n",
       " '__spec__',\n",
       " '_functional',\n",
       " '_multi_tensor',\n",
       " 'lr_scheduler',\n",
       " 'swa_utils']"
      ]
     },
     "execution_count": 13,
     "metadata": {},
     "output_type": "execute_result"
    }
   ],
   "source": [
    "import torch.optim as optim\n",
    "\n",
    "dir(optim)"
   ]
  },
  {
   "cell_type": "code",
   "execution_count": 14,
   "id": "7cced656-cfaf-4e7e-8f82-66dd8ab1b639",
   "metadata": {},
   "outputs": [],
   "source": [
    "params = Namespace(\n",
    "    params=torch.tensor([1.0, 0.0], requires_grad=True),\n",
    "    learning_rate=1e-5)\n",
    "\n",
    "optimizer = optim.SGD([params.params], lr=params.learning_rate)"
   ]
  },
  {
   "cell_type": "code",
   "execution_count": 15,
   "id": "b186261e-c632-4d81-a024-a1ec635c5bed",
   "metadata": {},
   "outputs": [
    {
     "data": {
      "text/plain": [
       "tensor([ 9.5483e-01, -8.2600e-04], requires_grad=True)"
      ]
     },
     "execution_count": 15,
     "metadata": {},
     "output_type": "execute_result"
    }
   ],
   "source": [
    "t_p = model(t_u, *params.params)\n",
    "loss = loss_fn(t_p, t_c)\n",
    "loss.backward()\n",
    "\n",
    "optimizer.step()\n",
    "\n",
    "params.params"
   ]
  },
  {
   "cell_type": "code",
   "execution_count": 16,
   "id": "e04f0e0f-b1bd-49e3-888e-a96d024d002b",
   "metadata": {},
   "outputs": [
    {
     "data": {
      "text/plain": [
       "tensor([1.7761, 0.1064], requires_grad=True)"
      ]
     },
     "execution_count": 16,
     "metadata": {},
     "output_type": "execute_result"
    }
   ],
   "source": [
    "params = torch.tensor([1.0, 0.0], requires_grad=True)\n",
    "learning_rate = 1e-2\n",
    "optimizer = optim.SGD([params], lr=learning_rate)\n",
    "\n",
    "t_p = model(t_un, *params)\n",
    "loss = loss_fn(t_p, t_c)\n",
    "\n",
    "optimizer.zero_grad()\n",
    "loss.backward()\n",
    "optimizer.step()\n",
    "\n",
    "params"
   ]
  },
  {
   "cell_type": "code",
   "execution_count": 17,
   "id": "99edbe16-8c20-4e41-a5ba-030f9a906d1f",
   "metadata": {},
   "outputs": [],
   "source": [
    "def training_loop(n_epochs, optimizer, model, loss_fn, params, t_u, t_c):\n",
    "    for epoch in range(1, n_epochs+1):\n",
    "        t_p = model(t_u, *params)\n",
    "        loss = loss_fn(t_p, t_c)\n",
    "        \n",
    "        optimizer.zero_grad()\n",
    "        loss.backward()\n",
    "        optimizer.step()\n",
    "        \n",
    "        if epoch % 500 == 0:\\\n",
    "            print('Epoch %d, Loss %f' % (epoch, float(loss)))\n",
    "        \n",
    "    return params"
   ]
  },
  {
   "cell_type": "code",
   "execution_count": 18,
   "id": "ed56129e-58d4-40e6-aad6-baac191dbb9e",
   "metadata": {},
   "outputs": [
    {
     "name": "stdout",
     "output_type": "stream",
     "text": [
      "Epoch 500, Loss 7.860115\n",
      "Epoch 1000, Loss 3.828538\n",
      "Epoch 1500, Loss 3.092191\n",
      "Epoch 2000, Loss 2.957698\n",
      "Epoch 2500, Loss 2.933134\n",
      "Epoch 3000, Loss 2.928648\n",
      "Epoch 3500, Loss 2.927830\n",
      "Epoch 4000, Loss 2.927679\n",
      "Epoch 4500, Loss 2.927652\n",
      "Epoch 5000, Loss 2.927647\n"
     ]
    },
    {
     "data": {
      "text/plain": [
       "tensor([  5.3671, -17.3012], requires_grad=True)"
      ]
     },
     "execution_count": 18,
     "metadata": {},
     "output_type": "execute_result"
    }
   ],
   "source": [
    "params = torch.tensor([1.0, 0.0], requires_grad=True)\n",
    "learning_rate=1e-2\n",
    "optimizer = optim.SGD([params], lr=learning_rate)\n",
    "\n",
    "training_params = Namespace(\n",
    "    n_epochs=5000,\n",
    "    optimizer=optimizer,\n",
    "    model=model,\n",
    "    loss_fn=loss_fn,\n",
    "    params=params,\n",
    "    t_u=t_un,\n",
    "    t_c=t_c)\n",
    "\n",
    "\n",
    "training_loop(\n",
    "    n_epochs=training_params.n_epochs,\n",
    "    optimizer=training_params.optimizer,\n",
    "    model=training_params.model,\n",
    "    loss_fn=training_params.loss_fn,\n",
    "    params=training_params.params,\n",
    "    t_u=training_params.t_u,\n",
    "    t_c=training_params.t_c)"
   ]
  },
  {
   "cell_type": "code",
   "execution_count": null,
   "id": "5628dfda-63da-4693-89fd-f3dd802ba84d",
   "metadata": {},
   "outputs": [],
   "source": []
  },
  {
   "cell_type": "code",
   "execution_count": 19,
   "id": "3335b5a3-0dbf-4d89-ba46-8fcafdd90811",
   "metadata": {},
   "outputs": [
    {
     "name": "stdout",
     "output_type": "stream",
     "text": [
      "Epoch 500, Loss 7.612900\n",
      "Epoch 1000, Loss 3.086700\n",
      "Epoch 1500, Loss 2.928579\n",
      "Epoch 2000, Loss 2.927644\n"
     ]
    },
    {
     "data": {
      "text/plain": [
       "tensor([  0.5367, -17.3021], requires_grad=True)"
      ]
     },
     "execution_count": 19,
     "metadata": {},
     "output_type": "execute_result"
    }
   ],
   "source": [
    "params = torch.tensor([1.0, 0.0], requires_grad=True)\n",
    "learning_rate=1e-1\n",
    "optimizer = optim.Adam([params], lr=learning_rate)\n",
    "\n",
    "training_params = Namespace(\n",
    "    n_epochs=2000,\n",
    "    optimizer=optimizer,\n",
    "    model=model,\n",
    "    loss_fn=loss_fn,\n",
    "    params=params,\n",
    "    t_u=t_u,\n",
    "    t_c=t_c)\n",
    "\n",
    "training_loop(\n",
    "    n_epochs=training_params.n_epochs,\n",
    "    optimizer=training_params.optimizer,\n",
    "    model=training_params.model,\n",
    "    loss_fn=training_params.loss_fn,\n",
    "    params=training_params.params,\n",
    "    t_u=training_params.t_u,\n",
    "    t_c=training_params.t_c)"
   ]
  },
  {
   "cell_type": "code",
   "execution_count": 20,
   "id": "121dcb9f-0fd1-438f-bf8f-f69eb2952db3",
   "metadata": {},
   "outputs": [],
   "source": [
    "params = torch.tensor([1.0, 0.0], requires_grad=True)\n",
    "learning_rate=1e-1\n",
    "optimizer = optim.Adam([params], lr=learning_rate)\n",
    "\n",
    "training_params = Namespace(\n",
    "    n_epochs=2000,\n",
    "    optimizer=optimizer,\n",
    "    model=model,\n",
    "    loss_fn=loss_fn,\n",
    "    params=params,\n",
    "    t_u=t_u,\n",
    "    t_c=t_c)\n",
    "\n"
   ]
  },
  {
   "cell_type": "code",
   "execution_count": 21,
   "id": "d03bb201-a1f6-40d8-8694-2ded463230d5",
   "metadata": {},
   "outputs": [
    {
     "name": "stdout",
     "output_type": "stream",
     "text": [
      "Epoch 500, Loss 7.612900\n",
      "Epoch 1000, Loss 3.086700\n",
      "Epoch 1500, Loss 2.928579\n",
      "Epoch 2000, Loss 2.927644\n"
     ]
    },
    {
     "data": {
      "text/plain": [
       "tensor([  0.5367, -17.3021], requires_grad=True)"
      ]
     },
     "execution_count": 21,
     "metadata": {},
     "output_type": "execute_result"
    }
   ],
   "source": [
    "training_loop(\n",
    "    n_epochs=training_params.n_epochs,\n",
    "    optimizer=training_params.optimizer,\n",
    "    model=training_params.model,\n",
    "    loss_fn=training_params.loss_fn,\n",
    "    params=training_params.params,\n",
    "    t_u=training_params.t_u,\n",
    "    t_c=training_params.t_c)"
   ]
  },
  {
   "cell_type": "code",
   "execution_count": 22,
   "id": "7744ea0c-475d-4e26-b3d2-f0d593165b57",
   "metadata": {},
   "outputs": [
    {
     "name": "stdout",
     "output_type": "stream",
     "text": [
      "Epoch 500, Loss 2.927645\n",
      "Epoch 1000, Loss 2.927646\n",
      "Epoch 1500, Loss 2.927645\n",
      "Epoch 2000, Loss 2.927646\n"
     ]
    },
    {
     "data": {
      "text/plain": [
       "tensor([  0.5368, -17.3048], requires_grad=True)"
      ]
     },
     "execution_count": 22,
     "metadata": {},
     "output_type": "execute_result"
    }
   ],
   "source": [
    "a = delayed(training_loop)(**vars(training_params))\n",
    "a.compute()\n",
    "#a.compute()"
   ]
  },
  {
   "cell_type": "code",
   "execution_count": 53,
   "id": "d9539c5b-a1f6-4b9d-93f8-57ecdc76302c",
   "metadata": {},
   "outputs": [
    {
     "data": {
      "text/plain": [
       "(tensor([ 0,  7,  5, 10,  2,  3,  6,  4,  1]), tensor([9, 8]))"
      ]
     },
     "execution_count": 53,
     "metadata": {},
     "output_type": "execute_result"
    }
   ],
   "source": [
    "n_samples = delayed(t_u.shape)[0]\n",
    "n_val = delayed(int(0.2 * (n_samples1 := n_samples.compute())))\n",
    "shuffled_indices0 = delayed(torch.randperm(n_samples1))\n",
    "shuffled_indices1 = shuffled_indices.compute()\n",
    "\n",
    "train_indices = shuffled_indices1[:-(n_val1 := n_val.compute())]\n",
    "val_indices = shuffled_indices1[-n_val1:]\n",
    "\n",
    "train_indices, val_indices"
   ]
  },
  {
   "cell_type": "code",
   "execution_count": 55,
   "id": "6d604577-cdc1-4614-9b76-4ad52496e6b2",
   "metadata": {},
   "outputs": [],
   "source": [
    "train_t_u = t_u[train_indices]\n",
    "train_t_c = t_c[train_indices]\n",
    "\n",
    "val_t_u = t_u[val_indices]\n",
    "val_t_c = t_c[val_indices]\n",
    "\n",
    "train_t_un = 0.1 * train_t_u\n",
    "val_t_un = 0.1 * val_t_u"
   ]
  },
  {
   "cell_type": "code",
   "execution_count": 80,
   "id": "cc7b4cc0-24d6-4cc9-8a97-04a2e824c8d6",
   "metadata": {},
   "outputs": [],
   "source": [
    "#train_t_c\n",
    "def training_loop(n_epochs, optimizer, params, train_t_u, val_t_u,\n",
    "                  train_t_c, val_t_c):\n",
    "    for epoch in range(1, n_epochs + 1):\n",
    "        train_t_p = model(train_t_u, *params) # <1>\n",
    "        train_loss = loss_fn(train_t_p, train_t_c)\n",
    "                             \n",
    "        val_t_p = model(val_t_u, *params) # <1>\n",
    "        val_loss = loss_fn(val_t_p, val_t_c)\n",
    "        \n",
    "        optimizer.zero_grad()\n",
    "        train_loss.backward() # <2>\n",
    "        optimizer.step()\n",
    "\n",
    "        if epoch <= 3 or epoch % 500 == 0:\n",
    "            print(f\"Epoch {epoch}, Training loss {train_loss.item():.4f},\"\n",
    "                  f\" Validation loss {val_loss.item():.4f}\")\n",
    "            \n",
    "    return params"
   ]
  },
  {
   "cell_type": "code",
   "execution_count": 82,
   "id": "5a866a06-0eed-41a8-867b-e987809766a5",
   "metadata": {},
   "outputs": [
    {
     "name": "stdout",
     "output_type": "stream",
     "text": [
      "Epoch 1, Training loss 92.6912, Validation loss 24.8936\n",
      "Epoch 2, Training loss 42.1972, Validation loss 6.1380\n",
      "Epoch 3, Training loss 34.1627, Validation loss 11.0368\n",
      "Epoch 500, Training loss 6.1071, Validation loss 11.2445\n",
      "Epoch 1000, Training loss 2.5403, Validation loss 9.5169\n",
      "Epoch 1500, Training loss 2.0684, Validation loss 8.9927\n",
      "Epoch 2000, Training loss 2.0060, Validation loss 8.8157\n",
      "Epoch 2500, Training loss 1.9977, Validation loss 8.7532\n",
      "Epoch 3000, Training loss 1.9966, Validation loss 8.7307\n"
     ]
    },
    {
     "data": {
      "text/plain": [
       "tensor([  5.4040, -16.9541], requires_grad=True)"
      ]
     },
     "execution_count": 82,
     "metadata": {},
     "output_type": "execute_result"
    }
   ],
   "source": [
    "params = torch.tensor([1.0, 0.0], requires_grad=True)\n",
    "learning_rate=1e-2\n",
    "optimizer = optim.SGD([params], lr=learning_rate)\n",
    "\n",
    "training_loop(\n",
    "    n_epochs=3000,\n",
    "    optimizer=optimizer,\n",
    "    params=params,\n",
    "    train_t_u=train_t_un,\n",
    "    val_t_u=val_t_un,\n",
    "    train_t_c=train_t_c,\n",
    "    val_t_c=val_t_c)"
   ]
  },
  {
   "cell_type": "code",
   "execution_count": null,
   "id": "ee8d9ee5-6dfb-42aa-91a1-5912b4f85308",
   "metadata": {},
   "outputs": [],
   "source": []
  },
  {
   "cell_type": "code",
   "execution_count": null,
   "id": "99e5ad6d-6f65-47a0-b4ed-1ef2c7b77879",
   "metadata": {},
   "outputs": [],
   "source": []
  }
 ],
 "metadata": {
  "kernelspec": {
   "display_name": "Python 3 (ipykernel)",
   "language": "python",
   "name": "python3"
  },
  "language_info": {
   "codemirror_mode": {
    "name": "ipython",
    "version": 3
   },
   "file_extension": ".py",
   "mimetype": "text/x-python",
   "name": "python",
   "nbconvert_exporter": "python",
   "pygments_lexer": "ipython3",
   "version": "3.9.7"
  }
 },
 "nbformat": 4,
 "nbformat_minor": 5
}
