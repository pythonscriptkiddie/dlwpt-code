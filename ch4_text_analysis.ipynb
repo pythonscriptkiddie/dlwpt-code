{
 "cells": [
  {
   "cell_type": "code",
   "execution_count": 142,
   "id": "2e9dea9a-f48e-4ea2-9295-7e722a656427",
   "metadata": {},
   "outputs": [],
   "source": [
    "#from argparse import Namespace\n",
    "import re\n",
    "from typing import List\n",
    "import dask.bag as db\n",
    "from dask import delayed\n",
    "from dask.distributed import Client\n",
    "import torch"
   ]
  },
  {
   "cell_type": "code",
   "execution_count": 143,
   "id": "7d05bf13-2daa-463d-8e53-c33ea58c22fb",
   "metadata": {},
   "outputs": [
    {
     "name": "stderr",
     "output_type": "stream",
     "text": [
      "/Users/thomassullivan/opt/anaconda3/envs/edgemont/lib/python3.9/site-packages/distributed/node.py:160: UserWarning: Port 8787 is already in use.\n",
      "Perhaps you already have a cluster running?\n",
      "Hosting the HTTP server on port 49914 instead\n",
      "  warnings.warn(\n"
     ]
    }
   ],
   "source": [
    "client = Client(asynchronous=True)"
   ]
  },
  {
   "cell_type": "code",
   "execution_count": 144,
   "id": "51d8f3a0-e08c-4859-bf5d-2329ab9223e1",
   "metadata": {},
   "outputs": [],
   "source": [
    "filename = 'data/p1ch4/jane-austen/1342-0.txt'"
   ]
  },
  {
   "cell_type": "code",
   "execution_count": 145,
   "id": "29a0ab00-65cd-4a95-99b5-f50b66853335",
   "metadata": {},
   "outputs": [],
   "source": [
    "raw_text0 = db.read_text(filename, encoding='utf8')\n",
    "raw_text1 = await client.gather(raw_text0)"
   ]
  },
  {
   "cell_type": "code",
   "execution_count": 146,
   "id": "68cb3d69-8d0c-466a-b71d-da2ed060729a",
   "metadata": {},
   "outputs": [
    {
     "data": {
      "text/plain": [
       "('\\ufeffThe Project Gutenberg EBook of Pride and Prejudice, by Jane Austen\\n',\n",
       " '\\n',\n",
       " 'This eBook is for the use of anyone anywhere at no cost and with\\n',\n",
       " 'almost no restrictions whatsoever.  You may copy it, give it away or\\n',\n",
       " 're-use it under the terms of the Project Gutenberg License included\\n',\n",
       " 'with this eBook or online at www.gutenberg.org\\n',\n",
       " '\\n',\n",
       " '\\n',\n",
       " 'Title: Pride and Prejudice\\n',\n",
       " '\\n')"
      ]
     },
     "execution_count": 146,
     "metadata": {},
     "output_type": "execute_result"
    }
   ],
   "source": [
    "await client.submit(lambda x: x.take(10), raw_text1)"
   ]
  },
  {
   "cell_type": "code",
   "execution_count": 147,
   "id": "8b4dea01-1e24-47eb-9b6d-d0191ab29907",
   "metadata": {},
   "outputs": [],
   "source": [
    "#we're now going to take the text of each element and convert it to a dictionary, with the key as\n",
    "#\"text\" and the value as the text\n",
    "#in the book we split the file, but we don't do that here because it's already split as a dask bag\n",
    "raw_text_future0 = client.scatter(raw_text1)\n",
    "#raw_text2 = client.submit(lambda x: x.map(lambda y: y.split('\\n')), await raw_text_future0)\n",
    "raw_text2 = client.submit(lambda x: x.map(lambda y: {'text': y}), await raw_text_future0)\n",
    "raw_text3 = await client.gather(raw_text2)"
   ]
  },
  {
   "cell_type": "code",
   "execution_count": 148,
   "id": "a2261a52-72e1-42b0-a2d1-f0ea74cb0d19",
   "metadata": {},
   "outputs": [
    {
     "data": {
      "text/plain": [
       "({'text': '\\ufeffThe Project Gutenberg EBook of Pride and Prejudice, by Jane Austen\\n'},\n",
       " {'text': '\\n'},\n",
       " {'text': 'This eBook is for the use of anyone anywhere at no cost and with\\n'},\n",
       " {'text': 'almost no restrictions whatsoever.  You may copy it, give it away or\\n'},\n",
       " {'text': 're-use it under the terms of the Project Gutenberg License included\\n'},\n",
       " {'text': 'with this eBook or online at www.gutenberg.org\\n'},\n",
       " {'text': '\\n'},\n",
       " {'text': '\\n'},\n",
       " {'text': 'Title: Pride and Prejudice\\n'},\n",
       " {'text': '\\n'},\n",
       " {'text': 'Author: Jane Austen\\n'},\n",
       " {'text': '\\n'},\n",
       " {'text': 'Posting Date: August 26, 2008 [EBook #1342]\\n'},\n",
       " {'text': 'Release Date: June, 1998\\n'},\n",
       " {'text': 'Last Updated: March 10, 2018\\n'},\n",
       " {'text': '\\n'},\n",
       " {'text': 'Language: English\\n'},\n",
       " {'text': '\\n'},\n",
       " {'text': 'Character set encoding: UTF-8\\n'},\n",
       " {'text': '\\n'},\n",
       " {'text': '*** START OF THIS PROJECT GUTENBERG EBOOK PRIDE AND PREJUDICE ***\\n'},\n",
       " {'text': '\\n'},\n",
       " {'text': '\\n'},\n",
       " {'text': '\\n'},\n",
       " {'text': '\\n'})"
      ]
     },
     "execution_count": 148,
     "metadata": {},
     "output_type": "execute_result"
    }
   ],
   "source": [
    "display_future0 = client.scatter(raw_text3)\n",
    "await client.submit(lambda x: x.take(25), await display_future0)"
   ]
  },
  {
   "cell_type": "code",
   "execution_count": 210,
   "id": "329af054-45a8-45a8-ad55-08ab2a0e3014",
   "metadata": {},
   "outputs": [],
   "source": [
    "#await client.submit(lambda x: x.take(25), raw_text5)\n",
    "def clean_words(input_str: str) -> List:\n",
    "    '''Takes an input string, removes a list of characters that will\n",
    "    not work with deep learning, then returns a list'''\n",
    "    punctuation = '.,;:\"\"\\'_-'\n",
    "    word_list = input_str.lower().replace('\\n', '').split()\n",
    "    word_list = [word.strip(punctuation) for word in word_list]\n",
    "    return word_list\n",
    "\n",
    "def add_clean_words_to_element(element):\n",
    "    '''Takes an element and creates a field called cleaned text.'''\n",
    "    element['cleaned text'] = clean_words(element['text'])\n",
    "    return element"
   ]
  },
  {
   "cell_type": "code",
   "execution_count": 211,
   "id": "e74c99a5-51b7-4eae-8363-b18a572bfd3b",
   "metadata": {},
   "outputs": [],
   "source": [
    "raw_text_future2 = client.scatter(raw_text3)\n",
    "raw_text4 = client.submit(lambda x: x.map(add_clean_words_to_element),\n",
    "                         await raw_text_future2)\n",
    "raw_text5 = await client.gather(raw_text4)"
   ]
  },
  {
   "cell_type": "code",
   "execution_count": 212,
   "id": "57949ffc-885c-456c-9fdd-4c5926fb6642",
   "metadata": {},
   "outputs": [
    {
     "data": {
      "text/plain": [
       "({'text': '\\ufeffThe Project Gutenberg EBook of Pride and Prejudice, by Jane Austen\\n',\n",
       "  'cleaned text': ['\\ufeffthe',\n",
       "   'project',\n",
       "   'gutenberg',\n",
       "   'ebook',\n",
       "   'of',\n",
       "   'pride',\n",
       "   'and',\n",
       "   'prejudice',\n",
       "   'by',\n",
       "   'jane',\n",
       "   'austen']},\n",
       " {'text': '\\n', 'cleaned text': []},\n",
       " {'text': 'This eBook is for the use of anyone anywhere at no cost and with\\n',\n",
       "  'cleaned text': ['this',\n",
       "   'ebook',\n",
       "   'is',\n",
       "   'for',\n",
       "   'the',\n",
       "   'use',\n",
       "   'of',\n",
       "   'anyone',\n",
       "   'anywhere',\n",
       "   'at',\n",
       "   'no',\n",
       "   'cost',\n",
       "   'and',\n",
       "   'with']},\n",
       " {'text': 'almost no restrictions whatsoever.  You may copy it, give it away or\\n',\n",
       "  'cleaned text': ['almost',\n",
       "   'no',\n",
       "   'restrictions',\n",
       "   'whatsoever',\n",
       "   'you',\n",
       "   'may',\n",
       "   'copy',\n",
       "   'it',\n",
       "   'give',\n",
       "   'it',\n",
       "   'away',\n",
       "   'or']},\n",
       " {'text': 're-use it under the terms of the Project Gutenberg License included\\n',\n",
       "  'cleaned text': ['re-use',\n",
       "   'it',\n",
       "   'under',\n",
       "   'the',\n",
       "   'terms',\n",
       "   'of',\n",
       "   'the',\n",
       "   'project',\n",
       "   'gutenberg',\n",
       "   'license',\n",
       "   'included']},\n",
       " {'text': 'with this eBook or online at www.gutenberg.org\\n',\n",
       "  'cleaned text': ['with',\n",
       "   'this',\n",
       "   'ebook',\n",
       "   'or',\n",
       "   'online',\n",
       "   'at',\n",
       "   'www.gutenberg.org']},\n",
       " {'text': '\\n', 'cleaned text': []},\n",
       " {'text': '\\n', 'cleaned text': []},\n",
       " {'text': 'Title: Pride and Prejudice\\n',\n",
       "  'cleaned text': ['title', 'pride', 'and', 'prejudice']},\n",
       " {'text': '\\n', 'cleaned text': []},\n",
       " {'text': 'Author: Jane Austen\\n',\n",
       "  'cleaned text': ['author', 'jane', 'austen']},\n",
       " {'text': '\\n', 'cleaned text': []},\n",
       " {'text': 'Posting Date: August 26, 2008 [EBook #1342]\\n',\n",
       "  'cleaned text': ['posting',\n",
       "   'date',\n",
       "   'august',\n",
       "   '26',\n",
       "   '2008',\n",
       "   '[ebook',\n",
       "   '#1342]']},\n",
       " {'text': 'Release Date: June, 1998\\n',\n",
       "  'cleaned text': ['release', 'date', 'june', '1998']},\n",
       " {'text': 'Last Updated: March 10, 2018\\n',\n",
       "  'cleaned text': ['last', 'updated', 'march', '10', '2018']})"
      ]
     },
     "execution_count": 212,
     "metadata": {},
     "output_type": "execute_result"
    }
   ],
   "source": [
    "display_future1 = client.scatter(raw_text5)\n",
    "await client.submit(lambda x: x.take(15), await display_future1)"
   ]
  },
  {
   "cell_type": "code",
   "execution_count": 213,
   "id": "9d534ce0-b03d-4792-816c-9aa390bb545c",
   "metadata": {},
   "outputs": [],
   "source": [
    "def make_word_list(element):\n",
    "    element['word list'] = sorted(set(element['cleaned text']))\n",
    "    return element"
   ]
  },
  {
   "cell_type": "code",
   "execution_count": 214,
   "id": "5604bc4d-3388-4260-a6f5-d12cc5c9c637",
   "metadata": {},
   "outputs": [],
   "source": [
    "raw_text_future3 = client.scatter(raw_text5)\n",
    "raw_text6 = client.submit(lambda x: x.map(make_word_list),\n",
    "                         await raw_text_future3)\n",
    "raw_text7 = await client.gather(raw_text6)"
   ]
  },
  {
   "cell_type": "code",
   "execution_count": 215,
   "id": "a169581a-7f54-47b5-8e80-f7a8782f76cf",
   "metadata": {},
   "outputs": [
    {
     "data": {
      "text/plain": [
       "({'text': '\\ufeffThe Project Gutenberg EBook of Pride and Prejudice, by Jane Austen\\n',\n",
       "  'cleaned text': ['\\ufeffthe',\n",
       "   'project',\n",
       "   'gutenberg',\n",
       "   'ebook',\n",
       "   'of',\n",
       "   'pride',\n",
       "   'and',\n",
       "   'prejudice',\n",
       "   'by',\n",
       "   'jane',\n",
       "   'austen'],\n",
       "  'word list': ['and',\n",
       "   'austen',\n",
       "   'by',\n",
       "   'ebook',\n",
       "   'gutenberg',\n",
       "   'jane',\n",
       "   'of',\n",
       "   'prejudice',\n",
       "   'pride',\n",
       "   'project',\n",
       "   '\\ufeffthe']},\n",
       " {'text': '\\n', 'cleaned text': [], 'word list': []},\n",
       " {'text': 'This eBook is for the use of anyone anywhere at no cost and with\\n',\n",
       "  'cleaned text': ['this',\n",
       "   'ebook',\n",
       "   'is',\n",
       "   'for',\n",
       "   'the',\n",
       "   'use',\n",
       "   'of',\n",
       "   'anyone',\n",
       "   'anywhere',\n",
       "   'at',\n",
       "   'no',\n",
       "   'cost',\n",
       "   'and',\n",
       "   'with'],\n",
       "  'word list': ['and',\n",
       "   'anyone',\n",
       "   'anywhere',\n",
       "   'at',\n",
       "   'cost',\n",
       "   'ebook',\n",
       "   'for',\n",
       "   'is',\n",
       "   'no',\n",
       "   'of',\n",
       "   'the',\n",
       "   'this',\n",
       "   'use',\n",
       "   'with']})"
      ]
     },
     "execution_count": 215,
     "metadata": {},
     "output_type": "execute_result"
    }
   ],
   "source": [
    "await client.submit(lambda x: x.take(3), raw_text7)"
   ]
  },
  {
   "cell_type": "code",
   "execution_count": 216,
   "id": "48f1fec3-934d-4a81-bacb-3c34d1487e97",
   "metadata": {},
   "outputs": [],
   "source": [
    "#let's try pluck\n",
    "words_in_line_future0 = client.scatter(raw_text7)\n",
    "words_in_line0 = client.submit(lambda x: x.pluck('cleaned text'), await words_in_line_future0)\n",
    "words_in_line1 = await client.gather(raw_text8)"
   ]
  },
  {
   "cell_type": "code",
   "execution_count": 217,
   "id": "f790669c-349b-49b8-8a8d-88727dea3277",
   "metadata": {},
   "outputs": [
    {
     "data": {
      "text/plain": [
       "(['\\ufeffthe',\n",
       "  'project',\n",
       "  'gutenberg',\n",
       "  'ebook',\n",
       "  'of',\n",
       "  'pride',\n",
       "  'and',\n",
       "  'prejudice',\n",
       "  'by',\n",
       "  'jane',\n",
       "  'austen'],\n",
       " [],\n",
       " ['this',\n",
       "  'ebook',\n",
       "  'is',\n",
       "  'for',\n",
       "  'the',\n",
       "  'use',\n",
       "  'of',\n",
       "  'anyone',\n",
       "  'anywhere',\n",
       "  'at',\n",
       "  'no',\n",
       "  'cost',\n",
       "  'and',\n",
       "  'with'],\n",
       " ['almost',\n",
       "  'no',\n",
       "  'restrictions',\n",
       "  'whatsoever',\n",
       "  'you',\n",
       "  'may',\n",
       "  'copy',\n",
       "  'it',\n",
       "  'give',\n",
       "  'it',\n",
       "  'away',\n",
       "  'or'],\n",
       " ['re-use',\n",
       "  'it',\n",
       "  'under',\n",
       "  'the',\n",
       "  'terms',\n",
       "  'of',\n",
       "  'the',\n",
       "  'project',\n",
       "  'gutenberg',\n",
       "  'license',\n",
       "  'included'])"
      ]
     },
     "execution_count": 217,
     "metadata": {},
     "output_type": "execute_result"
    }
   ],
   "source": [
    "await client.submit(lambda x: x.take(5), raw_text9)"
   ]
  },
  {
   "cell_type": "code",
   "execution_count": 226,
   "id": "76c80b91-94b0-4603-ba7c-130cb5704438",
   "metadata": {},
   "outputs": [],
   "source": [
    "words_in_line2 = await client.compute(words_in_line1)\n",
    "word_list0 = await client.compute(words_in_line1.flatten())"
   ]
  },
  {
   "cell_type": "code",
   "execution_count": 227,
   "id": "dbdb5513-8879-4113-aa1a-fb02013e76bc",
   "metadata": {},
   "outputs": [],
   "source": [
    "word_list_future0 = client.scatter(word_list0)\n",
    "word_list1 = client.submit(lambda x: sorted(list(set(x))), await word_list_future0)\n",
    "word_list2 = await client.gather(word_list1)"
   ]
  },
  {
   "cell_type": "code",
   "execution_count": 228,
   "id": "fe747b53-b654-4a2c-8e25-37462adb6313",
   "metadata": {},
   "outputs": [],
   "source": [
    "#raw_text12\n",
    "#word_list2\n",
    "#word_list_future0 = client.scatter(word_list2)\n",
    "enumerated_word_list0 = client.submit(lambda x: enumerate(x), word_list2)\n",
    "enumerated_word_list1 = await client.gather(enumerated_word_list0)"
   ]
  },
  {
   "cell_type": "code",
   "execution_count": 229,
   "id": "9ce3ab56-cbdf-499a-8a78-7d7dd4295255",
   "metadata": {},
   "outputs": [],
   "source": [
    "#\n",
    "#word_list_future1 = client.scatter(enumerated_word_list1)\n",
    "word2indexdict0 = client.submit(lambda x: {word: i for i, word in x},\n",
    "                              enumerated_word_list1)\n",
    "word2indexdict1 = await client.gather(word2indexdict0)"
   ]
  },
  {
   "cell_type": "code",
   "execution_count": 230,
   "id": "06173684-a10f-4f46-82be-a1b0ca385bb5",
   "metadata": {},
   "outputs": [
    {
     "data": {
      "text/plain": [
       "(8831, 3980)"
      ]
     },
     "execution_count": 230,
     "metadata": {},
     "output_type": "execute_result"
    }
   ],
   "source": [
    "len(word2indexdict1), word2indexdict1['impossible']"
   ]
  },
  {
   "cell_type": "code",
   "execution_count": 232,
   "id": "3b4cc456-d6e0-48cd-a406-6c86dbd50039",
   "metadata": {},
   "outputs": [],
   "source": [
    "word_t = torch.zeros(len(words_in_line2), len(word2indexdict1))"
   ]
  },
  {
   "cell_type": "code",
   "execution_count": 251,
   "id": "62152b9a-2986-4327-a49e-40a5fbbced3a",
   "metadata": {},
   "outputs": [],
   "source": []
  },
  {
   "cell_type": "code",
   "execution_count": 261,
   "id": "0051f97d-2d41-4f58-a4c1-906232c20928",
   "metadata": {},
   "outputs": [
    {
     "name": "stdout",
     "output_type": "stream",
     "text": [
      "0 ['\\ufeffthe', 'project', 'gutenberg', 'ebook', 'of', 'pride', 'and', 'prejudice', 'by', 'jane', 'austen']\n",
      "1 ['this', 'ebook', 'is', 'for', 'the', 'use', 'of', 'anyone', 'anywhere', 'at', 'no', 'cost', 'and', 'with']\n",
      "2 ['almost', 'no', 'restrictions', 'whatsoever', 'you', 'may', 'copy', 'it', 'give', 'it', 'away', 'or']\n",
      "3 ['re-use', 'it', 'under', 'the', 'terms', 'of', 'the', 'project', 'gutenberg', 'license', 'included']\n",
      "4 ['with', 'this', 'ebook', 'or', 'online', 'at', 'www.gutenberg.org']\n",
      "5 ['title', 'pride', 'and', 'prejudice']\n",
      "6 ['author', 'jane', 'austen']\n",
      "7 ['posting', 'date', 'august', '26', '2008', '[ebook', '#1342]']\n",
      "8 ['release', 'date', 'june', '1998']\n",
      "9 ['last', 'updated', 'march', '10', '2018']\n"
     ]
    }
   ],
   "source": [
    "words_in_line3 = [word for word in words_in_line2 if word]\n",
    "        #word_t[i][word_index] = 1\n",
    "        #print(index, word)\n",
    "for i, k in enumerate(words_in_line3[:10]):\n",
    "    print(i, k)"
   ]
  },
  {
   "cell_type": "code",
   "execution_count": 301,
   "id": "9883f624-b28a-46d1-a328-918fb5500c38",
   "metadata": {},
   "outputs": [],
   "source": [
    "#word_list = [(i, words, torch.zeros(len(words), len(word2indexdict1))) for i, words in enumerate(words_in_line3)]\n",
    "del word_list"
   ]
  },
  {
   "cell_type": "code",
   "execution_count": 300,
   "id": "2c2a7447-a614-4482-8fe6-b43f337e7c40",
   "metadata": {},
   "outputs": [],
   "source": [
    "words_in_line = ['a',\n",
    "  'large',\n",
    "  'party',\n",
    "  'for',\n",
    "  'the',\n",
    "  'ball',\n",
    "  'and',\n",
    "  'a',\n",
    "  'report',\n",
    "  'soon',\n",
    "  'followed',\n",
    "  'that',\n",
    "  'mr',\n",
    "  'bingley']"
   ]
  },
  {
   "cell_type": "code",
   "execution_count": 303,
   "id": "708490bb-956a-4af5-86d4-0feca8674fe6",
   "metadata": {},
   "outputs": [],
   "source": [
    "word_t = torch.zeros(len(words_in_line), len(word2indexdict1))"
   ]
  },
  {
   "cell_type": "code",
   "execution_count": 307,
   "id": "710487ca-7bb8-4e56-96d8-6c4ff425833d",
   "metadata": {},
   "outputs": [
    {
     "name": "stdout",
     "output_type": "stream",
     "text": [
      " 0  153 a\n",
      " 1 4485 large\n",
      " 2 5633 party\n",
      " 3 3160 for\n",
      " 4 7630 the\n",
      " 5  807 ball\n",
      " 6  498 and\n",
      " 7  153 a\n",
      " 8 6483 report\n",
      " 9 7172 soon\n",
      "10 3143 followed\n",
      "11 7626 that\n",
      "12 5117 mr\n",
      "13  959 bingley\n",
      "torch.Size([14, 8831])\n"
     ]
    },
    {
     "name": "stderr",
     "output_type": "stream",
     "text": [
      "/Users/thomassullivan/opt/anaconda3/envs/edgemont/lib/python3.9/site-packages/distributed/deploy/spec.py:663: RuntimeWarning: coroutine 'wait_for' was never awaited\n",
      "  cluster.close(timeout=10)\n",
      "/Users/thomassullivan/opt/anaconda3/envs/edgemont/lib/python3.9/site-packages/distributed/deploy/spec.py:663: RuntimeWarning: coroutine 'SpecCluster._close' was never awaited\n",
      "  cluster.close(timeout=10)\n"
     ]
    }
   ],
   "source": [
    "for i, word in enumerate(words_in_line):\n",
    "    word_index = word2indexdict1[word]\n",
    "    word_t[i][word_index] = 1\n",
    "    print(\"{:2} {:4} {}\".format(i, word_index, word))\n",
    "print(word_t.shape)"
   ]
  },
  {
   "cell_type": "code",
   "execution_count": null,
   "id": "f9028647-6470-482f-bcaf-19d318e46987",
   "metadata": {},
   "outputs": [],
   "source": []
  }
 ],
 "metadata": {
  "kernelspec": {
   "display_name": "Python 3 (ipykernel)",
   "language": "python",
   "name": "python3"
  },
  "language_info": {
   "codemirror_mode": {
    "name": "ipython",
    "version": 3
   },
   "file_extension": ".py",
   "mimetype": "text/x-python",
   "name": "python",
   "nbconvert_exporter": "python",
   "pygments_lexer": "ipython3",
   "version": "3.9.7"
  }
 },
 "nbformat": 4,
 "nbformat_minor": 5
}
