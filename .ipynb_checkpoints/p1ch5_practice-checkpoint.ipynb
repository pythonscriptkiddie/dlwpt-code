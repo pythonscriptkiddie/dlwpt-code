{
 "cells": [
  {
   "cell_type": "code",
   "execution_count": 1,
   "id": "7d7978fa-11af-42d1-850a-ebf9dc7c57be",
   "metadata": {},
   "outputs": [],
   "source": [
    "from argparse import Namespace\n",
    "from typing import TypeVar\n",
    "import torch \n",
    "import torch.optim as optim"
   ]
  },
  {
   "cell_type": "code",
   "execution_count": 2,
   "id": "d858ad34-889d-46a9-a255-a9b4e687ee2f",
   "metadata": {},
   "outputs": [],
   "source": [
    "Tensor = TypeVar('torch.Tensor')\n",
    "Optimizer = TypeVar('torch.optim')"
   ]
  },
  {
   "cell_type": "code",
   "execution_count": 3,
   "id": "c8c98c3c-beb0-43ee-a0d2-984c596ec823",
   "metadata": {},
   "outputs": [],
   "source": [
    "t_c = [0.5, 14.0, 15.0, 28.0, 11.0, 8.0, 3.0, -4.0, 6.0, 13.0, 21.0]\n",
    "t_u = [35.7, 55.9, 58.2, 81.9, 56.3, 48.9, 33.9, 21.8, 48.4, 60.4, 68.4]\n",
    "t_c = torch.tensor(t_c)\n",
    "t_u = torch.tensor(t_u)"
   ]
  },
  {
   "cell_type": "code",
   "execution_count": 4,
   "id": "975327b5-166e-4f2a-9648-51014f184d2c",
   "metadata": {},
   "outputs": [],
   "source": [
    "def model(t_u, w, b):\n",
    "    '''Model for basic equations from Deep Learning With Pytorch'''\n",
    "    return w * t_u + b"
   ]
  },
  {
   "cell_type": "code",
   "execution_count": 7,
   "id": "23c1c1c5-37ce-4676-95b1-2fc82f4ac1a6",
   "metadata": {},
   "outputs": [],
   "source": [
    "def loss_fn(t_p, t_c):\n",
    "    '''Loss function for basic equations'''\n",
    "    squared_diffs = (t_p - t_c)**2\n",
    "    return squared_diffs.mean()"
   ]
  },
  {
   "cell_type": "code",
   "execution_count": null,
   "id": "64f2db87-f1e9-4432-a569-aa649d058f5f",
   "metadata": {},
   "outputs": [],
   "source": []
  }
 ],
 "metadata": {
  "kernelspec": {
   "display_name": "Python 3 (ipykernel)",
   "language": "python",
   "name": "python3"
  },
  "language_info": {
   "codemirror_mode": {
    "name": "ipython",
    "version": 3
   },
   "file_extension": ".py",
   "mimetype": "text/x-python",
   "name": "python",
   "nbconvert_exporter": "python",
   "pygments_lexer": "ipython3",
   "version": "3.9.7"
  }
 },
 "nbformat": 4,
 "nbformat_minor": 5
}
