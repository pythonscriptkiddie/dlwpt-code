{
 "cells": [
  {
   "cell_type": "code",
   "execution_count": 56,
   "id": "1494874b-0e64-471f-b5b7-e36999195eb9",
   "metadata": {},
   "outputs": [],
   "source": [
    "from functools import partial\n",
    "from dask import delayed\n",
    "import numpy as np\n",
    "import dask.array as da\n",
    "from dask.distributed import Client\n",
    "import torch"
   ]
  },
  {
   "cell_type": "code",
   "execution_count": 35,
   "id": "3f892402-2f8a-4bf1-88a0-304609b6b388",
   "metadata": {},
   "outputs": [
    {
     "name": "stderr",
     "output_type": "stream",
     "text": [
      "/Users/thomassullivan/opt/anaconda3/envs/edgemont/lib/python3.9/site-packages/distributed/node.py:160: UserWarning: Port 8787 is already in use.\n",
      "Perhaps you already have a cluster running?\n",
      "Hosting the HTTP server on port 49910 instead\n",
      "  warnings.warn(\n"
     ]
    }
   ],
   "source": [
    "client = Client(asynchronous=True)"
   ]
  },
  {
   "cell_type": "code",
   "execution_count": 48,
   "id": "c2dfcae8-423c-4774-a29f-e8b5c2a4c29e",
   "metadata": {},
   "outputs": [],
   "source": [
    "a0 = client.submit(lambda x: x(3), torch.ones)\n",
    "a1 = await client.gather(a0)"
   ]
  },
  {
   "cell_type": "code",
   "execution_count": 50,
   "id": "2cbd0ce1-ecd4-4845-867c-2eb0cbd29e7a",
   "metadata": {},
   "outputs": [
    {
     "data": {
      "text/plain": [
       "tensor([1., 1., 1.])"
      ]
     },
     "execution_count": 50,
     "metadata": {},
     "output_type": "execute_result"
    }
   ],
   "source": [
    "a1"
   ]
  },
  {
   "cell_type": "code",
   "execution_count": 51,
   "id": "44fe8dad-ab91-407b-a21e-0a8c7e0ddbd2",
   "metadata": {},
   "outputs": [],
   "source": [
    "a2 = await client.submit(lambda x: x[1], a1)"
   ]
  },
  {
   "cell_type": "code",
   "execution_count": 54,
   "id": "2a359228-25eb-4f6f-9501-6686027af7d8",
   "metadata": {},
   "outputs": [],
   "source": [
    "a3 = await client.submit(lambda x: float(x[1]), a1)"
   ]
  },
  {
   "cell_type": "code",
   "execution_count": 55,
   "id": "e10f4a09-5841-4d58-baac-cb093bd070f1",
   "metadata": {},
   "outputs": [
    {
     "data": {
      "text/plain": [
       "1.0"
      ]
     },
     "execution_count": 55,
     "metadata": {},
     "output_type": "execute_result"
    }
   ],
   "source": [
    "a3"
   ]
  },
  {
   "cell_type": "code",
   "execution_count": 62,
   "id": "4bfe58c4-28cf-4d1c-ad90-9027c7692c4c",
   "metadata": {},
   "outputs": [],
   "source": [
    "def set_value(a, index, value):\n",
    "    a[index] = value\n",
    "    return a\n",
    "\n",
    "set_second_value = partial(set_value, index=2, value=2.0)"
   ]
  },
  {
   "cell_type": "code",
   "execution_count": 75,
   "id": "cb9ae604-6754-4a53-943b-bcffef69ef5e",
   "metadata": {},
   "outputs": [],
   "source": [
    "a1[2] = 2.0"
   ]
  },
  {
   "cell_type": "code",
   "execution_count": 76,
   "id": "d864a812-3d12-4f05-bee7-93a8851631a6",
   "metadata": {},
   "outputs": [
    {
     "data": {
      "text/plain": [
       "tensor([1., 1., 2.])"
      ]
     },
     "execution_count": 76,
     "metadata": {},
     "output_type": "execute_result"
    }
   ],
   "source": [
    "a1"
   ]
  },
  {
   "cell_type": "code",
   "execution_count": 71,
   "id": "f2909fec-ef5f-4c07-8a0f-27f1e4195837",
   "metadata": {},
   "outputs": [
    {
     "data": {
      "text/plain": [
       "functools.partial(<function set_value at 0x7fd8742b9dc0>, index=2, value=2.0)"
      ]
     },
     "execution_count": 71,
     "metadata": {},
     "output_type": "execute_result"
    }
   ],
   "source": [
    "a7"
   ]
  },
  {
   "cell_type": "code",
   "execution_count": 81,
   "id": "67d4dc72-9e7e-4db8-a527-4cd7dc17b435",
   "metadata": {},
   "outputs": [],
   "source": [
    "points0 = client.submit(lambda x: x(6), torch.zeros)\n",
    "points1 = await client.gather(points0)"
   ]
  },
  {
   "cell_type": "code",
   "execution_count": 83,
   "id": "5ccc47b9-81bd-48ef-8e61-acab108defc7",
   "metadata": {},
   "outputs": [],
   "source": [
    "values = list(enumerate([4.0, 1.0, 5.0, 3.0, 2.0, 1.0]))"
   ]
  },
  {
   "cell_type": "code",
   "execution_count": 85,
   "id": "9d1491e3-5cec-4033-9025-61d8f145bc74",
   "metadata": {},
   "outputs": [],
   "source": [
    "for i, j in values:\n",
    "    points1[i] = j"
   ]
  },
  {
   "cell_type": "code",
   "execution_count": 86,
   "id": "1363834c-4b9c-4b35-bc46-d41f3f64cd4b",
   "metadata": {},
   "outputs": [
    {
     "data": {
      "text/plain": [
       "tensor([4., 1., 5., 3., 2., 1.])"
      ]
     },
     "execution_count": 86,
     "metadata": {},
     "output_type": "execute_result"
    }
   ],
   "source": [
    "points1"
   ]
  },
  {
   "cell_type": "code",
   "execution_count": 87,
   "id": "1d350b75-a539-41ae-a49d-537a7a67bef4",
   "metadata": {},
   "outputs": [],
   "source": [
    "points2 = torch.tensor([4.0, 1.0, 5.0, 3.0, 2.0, 1.0])"
   ]
  },
  {
   "cell_type": "code",
   "execution_count": 89,
   "id": "98a0d835-5d0c-43b1-b5f7-6056a4e65f8f",
   "metadata": {},
   "outputs": [
    {
     "data": {
      "text/plain": [
       "(4.0, 1.0)"
      ]
     },
     "execution_count": 89,
     "metadata": {},
     "output_type": "execute_result"
    }
   ],
   "source": [
    "float(points2[0]), float(points2[1])"
   ]
  },
  {
   "cell_type": "code",
   "execution_count": 90,
   "id": "10d46e82-ec56-4a96-b806-1f1a4eaed640",
   "metadata": {},
   "outputs": [
    {
     "name": "stderr",
     "output_type": "stream",
     "text": [
      "/Users/thomassullivan/opt/anaconda3/envs/edgemont/lib/python3.9/site-packages/distributed/deploy/spec.py:663: RuntimeWarning: coroutine 'wait_for' was never awaited\n",
      "  cluster.close(timeout=10)\n",
      "/Users/thomassullivan/opt/anaconda3/envs/edgemont/lib/python3.9/site-packages/distributed/deploy/spec.py:663: RuntimeWarning: coroutine 'SpecCluster._close' was never awaited\n",
      "  cluster.close(timeout=10)\n"
     ]
    }
   ],
   "source": [
    "points = torch.tensor([[4.0, 1.0], [5.0, 3.0], [2.0, 1.0]])"
   ]
  },
  {
   "cell_type": "code",
   "execution_count": null,
   "id": "c778abe3-169b-48cd-8384-b9621eac110e",
   "metadata": {},
   "outputs": [],
   "source": []
  }
 ],
 "metadata": {
  "kernelspec": {
   "display_name": "Python 3 (ipykernel)",
   "language": "python",
   "name": "python3"
  },
  "language_info": {
   "codemirror_mode": {
    "name": "ipython",
    "version": 3
   },
   "file_extension": ".py",
   "mimetype": "text/x-python",
   "name": "python",
   "nbconvert_exporter": "python",
   "pygments_lexer": "ipython3",
   "version": "3.9.7"
  }
 },
 "nbformat": 4,
 "nbformat_minor": 5
}
